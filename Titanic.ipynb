{
  "nbformat": 4,
  "nbformat_minor": 0,
  "metadata": {
    "kernelspec": {
      "language": "python",
      "display_name": "Python 3",
      "name": "python3"
    },
    "language_info": {
      "pygments_lexer": "ipython3",
      "nbconvert_exporter": "python",
      "version": "3.6.4",
      "file_extension": ".py",
      "codemirror_mode": {
        "name": "ipython",
        "version": 3
      },
      "name": "python",
      "mimetype": "text/x-python"
    },
    "colab": {
      "name": "Titanic.ipynb",
      "provenance": [],
      "collapsed_sections": [
        "6hoBaBYlh49F",
        "4yD6o5lLYPZx",
        "DSN9mwVTeir6",
        "x3budhO2Z9kR",
        "ak4COr0Ha-ST",
        "8ZPKOsA5a-V-",
        "ZP0uzRuCa-aU",
        "7N3ip-n0a-fG",
        "-14ncxZEa-i7",
        "dtxsPdWka-n9",
        "h_gJG-WWa-wY"
      ],
      "toc_visible": true,
      "include_colab_link": true
    }
  },
  "cells": [
    {
      "cell_type": "markdown",
      "metadata": {
        "id": "view-in-github",
        "colab_type": "text"
      },
      "source": [
        "<a href=\"https://colab.research.google.com/github/BruceWang94/Titanic/blob/master/Titanic.ipynb\" target=\"_parent\"><img src=\"https://colab.research.google.com/assets/colab-badge.svg\" alt=\"Open In Colab\"/></a>"
      ]
    },
    {
      "cell_type": "code",
      "metadata": {
        "_uuid": "8f2839f25d086af736a60e9eeb907d3b93b6e0e5",
        "_cell_guid": "b1076dfc-b9ad-4769-8c92-a6c4dae69d19",
        "trusted": true,
        "id": "LPMzKejxnsi8",
        "colab_type": "code",
        "colab": {}
      },
      "source": [
        "# # This Python 3 environment comes with many helpful analytics libraries installed\n",
        "# # It is defined by the kaggle/python docker image: https://github.com/kaggle/docker-python\n",
        "# # For example, here's several helpful packages to load in \n",
        "\n",
        "# import numpy as np # linear algebra\n",
        "# import pandas as pd # data processing, CSV file I/O (e.g. pd.read_csv)\n",
        "\n",
        "# # Input data files are available in the \"../input/\" directory.\n",
        "# # For example, running this (by clicking run or pressing Shift+Enter) will list all files under the input directory\n",
        "\n",
        "# import os\n",
        "# for dirname, _, filenames in os.walk('/kaggle/input'):\n",
        "#     for filename in filenames:\n",
        "#         print(os.path.join(dirname, filename))\n",
        "\n",
        "# # Any results you write to the current directory are saved as output."
      ],
      "execution_count": 0,
      "outputs": []
    },
    {
      "cell_type": "code",
      "metadata": {
        "id": "zpQU8hAEoK9G",
        "colab_type": "code",
        "outputId": "2a2740c5-0030-4478-c89b-ba13a24c1b9f",
        "colab": {
          "base_uri": "https://localhost:8080/",
          "height": 34
        }
      },
      "source": [
        "from google.colab import drive\n",
        "drive.mount('/gdrive')"
      ],
      "execution_count": 2,
      "outputs": [
        {
          "output_type": "stream",
          "text": [
            "Drive already mounted at /gdrive; to attempt to forcibly remount, call drive.mount(\"/gdrive\", force_remount=True).\n"
          ],
          "name": "stdout"
        }
      ]
    },
    {
      "cell_type": "markdown",
      "metadata": {
        "id": "Ypwr0CCqnsjC",
        "colab_type": "text"
      },
      "source": [
        "## Load Package"
      ]
    },
    {
      "cell_type": "code",
      "metadata": {
        "trusted": true,
        "id": "EuMyz3TknsjD",
        "colab_type": "code",
        "colab": {}
      },
      "source": [
        "import os\n",
        "import re\n",
        "\n",
        "import pandas as pd\n",
        "import numpy as np\n",
        "\n",
        "import matplotlib.pyplot as plt\n",
        "import seaborn as sns\n",
        "\n",
        "sns.set(style=\"whitegrid\")\n",
        "\n",
        "%matplotlib inline\n"
      ],
      "execution_count": 0,
      "outputs": []
    },
    {
      "cell_type": "markdown",
      "metadata": {
        "id": "I30zeCP1nsjH",
        "colab_type": "text"
      },
      "source": [
        "## Load Data"
      ]
    },
    {
      "cell_type": "code",
      "metadata": {
        "_uuid": "d629ff2d2480ee46fbb7e2d37f6b5fab8052498a",
        "_cell_guid": "79c7e3d0-c299-4dcb-8224-4455121ee9b0",
        "trusted": true,
        "id": "r-i3SXBensjI",
        "colab_type": "code",
        "outputId": "3e740af5-7805-4303-a8c8-0f173bbcf8a2",
        "colab": {
          "base_uri": "https://localhost:8080/",
          "height": 51
        }
      },
      "source": [
        "KAGGLE_PATH = \"/kaggle/input\"\n",
        "GOOGLE_DRIVE_PATH = '/gdrive/My Drive/'\n",
        "\n",
        "PATH = GOOGLE_DRIVE_PATH\n",
        "\n",
        "train = pd.read_csv(\n",
        "    os.sep.join([PATH, \"titanic/train.csv\"])\n",
        ")\n",
        "test = pd.read_csv(\n",
        "    os.sep.join([PATH, \"titanic/test.csv\"])\n",
        ")\n",
        "ss = pd.read_csv(\n",
        "    os.sep.join([PATH, \"titanic/gender_submission.csv\"])\n",
        ")\n",
        "\n",
        "print (\"Shape of train:\", train.shape)\n",
        "print (\"Shape of test:\", test.shape)"
      ],
      "execution_count": 4,
      "outputs": [
        {
          "output_type": "stream",
          "text": [
            "Shape of train: (891, 12)\n",
            "Shape of test: (418, 11)\n"
          ],
          "name": "stdout"
        }
      ]
    },
    {
      "cell_type": "markdown",
      "metadata": {
        "id": "fVynqVnbnsjL",
        "colab_type": "text"
      },
      "source": [
        "## Exploratory Data Analysis (EDA)\n",
        "\n",
        "Exploratory each columns.\n",
        "\n",
        "\n",
        "### Types of Statistical Data\n",
        "\n",
        "- Numerical data\n",
        "\n",
        "  These data have the meaning as a measurement, such as a person's height, weight and age. Furthermore, numerical data can be further broken into two types: discrete and continuous.\n",
        "\n",
        "- Categorical data \n",
        "\n",
        "  Categorical data represent characteristics, such as a person's gender or hometown.\n",
        "\n",
        "  Categorical data can also take on numerical values (“0” for male, “1” for female), but those numbers don’t have mathematical meaning. You couldn’t add them together.\n",
        "\n",
        "- Ordinal data\n",
        "\n",
        "  Ordinal data is similar to Category data. The data fall into categories, but these categories have relative ordering. For example, A feature like __Height__ with values __Tall__, __Medium__, __Short__, then Height is an ordinal variable because these values have a relative order.\n"
      ]
    },
    {
      "cell_type": "code",
      "metadata": {
        "trusted": true,
        "id": "ssN0Ds8vnskZ",
        "colab_type": "code",
        "outputId": "f6fd92b1-e365-4370-c615-e32411fd0303",
        "colab": {
          "base_uri": "https://localhost:8080/",
          "height": 204
        }
      },
      "source": [
        "train.head()"
      ],
      "execution_count": 5,
      "outputs": [
        {
          "output_type": "execute_result",
          "data": {
            "text/html": [
              "<div>\n",
              "<style scoped>\n",
              "    .dataframe tbody tr th:only-of-type {\n",
              "        vertical-align: middle;\n",
              "    }\n",
              "\n",
              "    .dataframe tbody tr th {\n",
              "        vertical-align: top;\n",
              "    }\n",
              "\n",
              "    .dataframe thead th {\n",
              "        text-align: right;\n",
              "    }\n",
              "</style>\n",
              "<table border=\"1\" class=\"dataframe\">\n",
              "  <thead>\n",
              "    <tr style=\"text-align: right;\">\n",
              "      <th></th>\n",
              "      <th>PassengerId</th>\n",
              "      <th>Survived</th>\n",
              "      <th>Pclass</th>\n",
              "      <th>Name</th>\n",
              "      <th>Sex</th>\n",
              "      <th>Age</th>\n",
              "      <th>SibSp</th>\n",
              "      <th>Parch</th>\n",
              "      <th>Ticket</th>\n",
              "      <th>Fare</th>\n",
              "      <th>Cabin</th>\n",
              "      <th>Embarked</th>\n",
              "    </tr>\n",
              "  </thead>\n",
              "  <tbody>\n",
              "    <tr>\n",
              "      <th>0</th>\n",
              "      <td>1</td>\n",
              "      <td>0</td>\n",
              "      <td>3</td>\n",
              "      <td>Braund, Mr. Owen Harris</td>\n",
              "      <td>male</td>\n",
              "      <td>22.0</td>\n",
              "      <td>1</td>\n",
              "      <td>0</td>\n",
              "      <td>A/5 21171</td>\n",
              "      <td>7.2500</td>\n",
              "      <td>NaN</td>\n",
              "      <td>S</td>\n",
              "    </tr>\n",
              "    <tr>\n",
              "      <th>1</th>\n",
              "      <td>2</td>\n",
              "      <td>1</td>\n",
              "      <td>1</td>\n",
              "      <td>Cumings, Mrs. John Bradley (Florence Briggs Th...</td>\n",
              "      <td>female</td>\n",
              "      <td>38.0</td>\n",
              "      <td>1</td>\n",
              "      <td>0</td>\n",
              "      <td>PC 17599</td>\n",
              "      <td>71.2833</td>\n",
              "      <td>C85</td>\n",
              "      <td>C</td>\n",
              "    </tr>\n",
              "    <tr>\n",
              "      <th>2</th>\n",
              "      <td>3</td>\n",
              "      <td>1</td>\n",
              "      <td>3</td>\n",
              "      <td>Heikkinen, Miss. Laina</td>\n",
              "      <td>female</td>\n",
              "      <td>26.0</td>\n",
              "      <td>0</td>\n",
              "      <td>0</td>\n",
              "      <td>STON/O2. 3101282</td>\n",
              "      <td>7.9250</td>\n",
              "      <td>NaN</td>\n",
              "      <td>S</td>\n",
              "    </tr>\n",
              "    <tr>\n",
              "      <th>3</th>\n",
              "      <td>4</td>\n",
              "      <td>1</td>\n",
              "      <td>1</td>\n",
              "      <td>Futrelle, Mrs. Jacques Heath (Lily May Peel)</td>\n",
              "      <td>female</td>\n",
              "      <td>35.0</td>\n",
              "      <td>1</td>\n",
              "      <td>0</td>\n",
              "      <td>113803</td>\n",
              "      <td>53.1000</td>\n",
              "      <td>C123</td>\n",
              "      <td>S</td>\n",
              "    </tr>\n",
              "    <tr>\n",
              "      <th>4</th>\n",
              "      <td>5</td>\n",
              "      <td>0</td>\n",
              "      <td>3</td>\n",
              "      <td>Allen, Mr. William Henry</td>\n",
              "      <td>male</td>\n",
              "      <td>35.0</td>\n",
              "      <td>0</td>\n",
              "      <td>0</td>\n",
              "      <td>373450</td>\n",
              "      <td>8.0500</td>\n",
              "      <td>NaN</td>\n",
              "      <td>S</td>\n",
              "    </tr>\n",
              "  </tbody>\n",
              "</table>\n",
              "</div>"
            ],
            "text/plain": [
              "   PassengerId  Survived  Pclass  ...     Fare Cabin  Embarked\n",
              "0            1         0       3  ...   7.2500   NaN         S\n",
              "1            2         1       1  ...  71.2833   C85         C\n",
              "2            3         1       3  ...   7.9250   NaN         S\n",
              "3            4         1       1  ...  53.1000  C123         S\n",
              "4            5         0       3  ...   8.0500   NaN         S\n",
              "\n",
              "[5 rows x 12 columns]"
            ]
          },
          "metadata": {
            "tags": []
          },
          "execution_count": 5
        }
      ]
    },
    {
      "cell_type": "code",
      "metadata": {
        "id": "gL8GPIIwZgpX",
        "colab_type": "code",
        "outputId": "6efd17ff-4aab-42b9-f4a1-196f8fb1ff24",
        "colab": {
          "base_uri": "https://localhost:8080/",
          "height": 306
        }
      },
      "source": [
        "train.info()"
      ],
      "execution_count": 6,
      "outputs": [
        {
          "output_type": "stream",
          "text": [
            "<class 'pandas.core.frame.DataFrame'>\n",
            "RangeIndex: 891 entries, 0 to 890\n",
            "Data columns (total 12 columns):\n",
            "PassengerId    891 non-null int64\n",
            "Survived       891 non-null int64\n",
            "Pclass         891 non-null int64\n",
            "Name           891 non-null object\n",
            "Sex            891 non-null object\n",
            "Age            714 non-null float64\n",
            "SibSp          891 non-null int64\n",
            "Parch          891 non-null int64\n",
            "Ticket         891 non-null object\n",
            "Fare           891 non-null float64\n",
            "Cabin          204 non-null object\n",
            "Embarked       889 non-null object\n",
            "dtypes: float64(2), int64(5), object(5)\n",
            "memory usage: 83.7+ KB\n"
          ],
          "name": "stdout"
        }
      ]
    },
    {
      "cell_type": "markdown",
      "metadata": {
        "id": "6hoBaBYlh49F",
        "colab_type": "text"
      },
      "source": [
        "### Survived\n",
        "\n",
        "The label has two values: \n",
        "- 0 for Not Survived;\n",
        "- 1 for Survived\n",
        "\n",
        "Summary:\n",
        "- No Missing\n",
        "- There are 61.6% of people not survived."
      ]
    },
    {
      "cell_type": "code",
      "metadata": {
        "id": "-mkqzm00h5Fq",
        "colab_type": "code",
        "outputId": "64ca432a-cd6d-4d0d-d314-488cad391bf7",
        "colab": {
          "base_uri": "https://localhost:8080/",
          "height": 0
        }
      },
      "source": [
        "print (\"Has Nans:\", train['Survived'].hasnans)"
      ],
      "execution_count": 7,
      "outputs": [
        {
          "output_type": "stream",
          "text": [
            "Has Nans: False\n"
          ],
          "name": "stdout"
        }
      ]
    },
    {
      "cell_type": "code",
      "metadata": {
        "id": "PkLpdOO3h_mn",
        "colab_type": "code",
        "outputId": "e9e0f401-186d-4140-f703-a0f84ff88139",
        "colab": {
          "base_uri": "https://localhost:8080/",
          "height": 0
        }
      },
      "source": [
        "train['Survived'].unique()"
      ],
      "execution_count": 8,
      "outputs": [
        {
          "output_type": "execute_result",
          "data": {
            "text/plain": [
              "array([0, 1])"
            ]
          },
          "metadata": {
            "tags": []
          },
          "execution_count": 8
        }
      ]
    },
    {
      "cell_type": "code",
      "metadata": {
        "id": "JmtXX8nfiB23",
        "colab_type": "code",
        "outputId": "b50f43ff-7744-47a6-e9f9-f8467b420cfb",
        "colab": {
          "base_uri": "https://localhost:8080/",
          "height": 0
        }
      },
      "source": [
        "# Plot the Column: Pclass\n",
        "\n",
        "agg = train.groupby(['Survived'], as_index=False).agg({'PassengerId':'count'})\n",
        "\n",
        "plt.figure(figsize=(20,7)) # Define figure size\n",
        "\n",
        "# Check the total distribution\n",
        "plt.subplot(1,2,1)\n",
        "\n",
        "sns.barplot(x='Survived', y='PassengerId', data=agg)\n",
        "\n",
        "plt.title('Distribution of Survived')\n",
        "plt.xlabel('Survived')\n",
        "plt.ylabel('Frequency')\n",
        "\n",
        "# Check the distribution on different Survived\n",
        "plt.subplot(1,2,2)\n",
        "\n",
        "plt.pie(\n",
        "    agg['PassengerId'], \n",
        "    explode=[0.1, 0], \n",
        "    labels=agg['Survived'], \n",
        "    autopct=\"%1.1f%%\", \n",
        "    pctdistance=0.6, \n",
        "    shadow=True, \n",
        "    labeldistance=1.1\n",
        ")\n",
        "plt.title(\"Survived\")\n",
        "\n",
        "plt.show()"
      ],
      "execution_count": 9,
      "outputs": [
        {
          "output_type": "display_data",
          "data": {
            "image/png": "[encoded data removed]",
            "text/plain": [
              "<Figure size 1440x504 with 2 Axes>"
            ]
          },
          "metadata": {
            "tags": []
          }
        }
      ]
    },
    {
      "cell_type": "markdown",
      "metadata": {
        "id": "4yD6o5lLYPZx",
        "colab_type": "text"
      },
      "source": [
        "### Pclass\n",
        "pclass: A proxy for socio-economic status (SES)\n",
        "- 1st = Upper\n",
        "- 2nd = Middle\n",
        "- 3rd = Lower\n",
        "\n",
        "Summary:\n",
        "- No Missing\n",
        "- 1st has 24.2%; 2nd has 20.7%; 3rd has 55.1%\n",
        "- Among each Pclass, most of people in 1st are survivied"
      ]
    },
    {
      "cell_type": "code",
      "metadata": {
        "id": "2vVXWle4ZxSY",
        "colab_type": "code",
        "outputId": "a49d0090-5aa2-4f49-87bd-89cba2c0b4dc",
        "colab": {
          "base_uri": "https://localhost:8080/",
          "height": 0
        }
      },
      "source": [
        "print (\"Has Nans:\", train['Pclass'].hasnans)"
      ],
      "execution_count": 10,
      "outputs": [
        {
          "output_type": "stream",
          "text": [
            "Has Nans: False\n"
          ],
          "name": "stdout"
        }
      ]
    },
    {
      "cell_type": "code",
      "metadata": {
        "id": "kQr1Z65tZlzI",
        "colab_type": "code",
        "outputId": "bf1617f9-dab2-4255-f46e-c2d73dfc2a8a",
        "colab": {
          "base_uri": "https://localhost:8080/",
          "height": 0
        }
      },
      "source": [
        "train['Pclass'].unique()"
      ],
      "execution_count": 11,
      "outputs": [
        {
          "output_type": "execute_result",
          "data": {
            "text/plain": [
              "array([3, 1, 2])"
            ]
          },
          "metadata": {
            "tags": []
          },
          "execution_count": 11
        }
      ]
    },
    {
      "cell_type": "code",
      "metadata": {
        "id": "6AMV6i2UVlkR",
        "colab_type": "code",
        "outputId": "464111c1-1358-44fa-ed57-1bf5d4d1f738",
        "colab": {
          "base_uri": "https://localhost:8080/",
          "height": 0
        }
      },
      "source": [
        "# Plot the Column: Pclass\n",
        "\n",
        "plt.figure(figsize=(21,7)) # Define figure size\n",
        "\n",
        "# Check the total distribution\n",
        "plt.subplot(1,2,1)\n",
        "\n",
        "agg = train.groupby(['Pclass'], as_index=False).agg({'PassengerId':'count'})\n",
        "\n",
        "# sns.barplot(x='Pclass', y='PassengerId', data=agg)\n",
        "# plt.title('Distribution of Pclass')\n",
        "# plt.xlabel('Pclass')\n",
        "# plt.ylabel('Frequency')\n",
        "plt.pie(\n",
        "    agg['PassengerId'], \n",
        "    explode=[0., 0., 0.1], \n",
        "    labels=agg['Pclass'], \n",
        "    autopct=\"%1.1f%%\", \n",
        "    pctdistance=0.6, \n",
        "    shadow=True, \n",
        "    labeldistance=1.1\n",
        ")\n",
        "plt.title(\"Pclass\")\n",
        "\n",
        "# Check the distribution on different Survived\n",
        "plt.subplot(1,2,2)\n",
        "\n",
        "agg = train.groupby(['Pclass', 'Survived'], as_index=False).agg({'PassengerId':'count'})\n",
        "sns.barplot(x='Pclass', y='PassengerId', hue='Survived', data=agg)\n",
        "\n",
        "plt.title('Pclass vs Survived')\n",
        "plt.xlabel('Pclass')\n",
        "plt.ylabel('Frequency')\n",
        "\n",
        "plt.show()"
      ],
      "execution_count": 12,
      "outputs": [
        {
          "output_type": "display_data",
          "data": {
            "image/png": "[encoded data removed]",
            "text/plain": [
              "<Figure size 1512x504 with 2 Axes>"
            ]
          },
          "metadata": {
            "tags": []
          }
        }
      ]
    },
    {
      "cell_type": "markdown",
      "metadata": {
        "id": "DSN9mwVTeir6",
        "colab_type": "text"
      },
      "source": [
        "### Name\n",
        "\n",
        "Summary:\n",
        "- No Missing\n",
        "- Check the Initial: \n",
        "\n",
        " 'Capt.', 'Col.', 'Countess.', 'Don.', 'Dr.', 'Dr.', 'Jonkheer.', 'Lady.', 'Major.', 'Master.', 'Miss.', 'Mlle.', 'Mme.', 'Mr.','Mrs.', 'Ms.', 'Rev.', 'Sir.'\n",
        "\n",
        "   Convert into:\n",
        "\n",
        "   'Mr.', 'Master.', 'Mrs.', 'Miss.', 'Other.'\n",
        "\n",
        "   Rule Following:\n",
        "\n",
        "   ```\n",
        "   .replace(\n",
        "    ['Capt.', 'Col.', 'Countess.', 'Don.', 'Dr.', 'Jonkheer.', 'Lady.', 'Major.', 'Master.', 'Miss.', 'Mlle.', 'Mme.', 'Ms.', 'Rev.', 'Sir.'],\n",
        "    ['Mr.', 'Other.', 'Other.', 'Other.', 'Other.', 'Other.', 'Miss.', 'Mr.', 'Master.', 'Miss.', 'Miss.', 'Miss.', 'Miss.', 'Mr.', 'Mr.'],\n",
        "    inplace=True\n",
        ")\n",
        "```"
      ]
    },
    {
      "cell_type": "code",
      "metadata": {
        "id": "BN8h2vcVeh0C",
        "colab_type": "code",
        "outputId": "868caa04-cd4b-404e-ac96-5133144a037f",
        "colab": {
          "base_uri": "https://localhost:8080/",
          "height": 34
        }
      },
      "source": [
        "print (\"Has Nans:\", train['Name'].hasnans)"
      ],
      "execution_count": 13,
      "outputs": [
        {
          "output_type": "stream",
          "text": [
            "Has Nans: False\n"
          ],
          "name": "stdout"
        }
      ]
    },
    {
      "cell_type": "code",
      "metadata": {
        "id": "NForl9_penl9",
        "colab_type": "code",
        "outputId": "9a3cc406-572b-47ad-ad28-ad7f5448aa24",
        "colab": {
          "base_uri": "https://localhost:8080/",
          "height": 221
        }
      },
      "source": [
        "train['Name']"
      ],
      "execution_count": 14,
      "outputs": [
        {
          "output_type": "execute_result",
          "data": {
            "text/plain": [
              "0                                Braund, Mr. Owen Harris\n",
              "1      Cumings, Mrs. John Bradley (Florence Briggs Th...\n",
              "2                                 Heikkinen, Miss. Laina\n",
              "3           Futrelle, Mrs. Jacques Heath (Lily May Peel)\n",
              "4                               Allen, Mr. William Henry\n",
              "                             ...                        \n",
              "886                                Montvila, Rev. Juozas\n",
              "887                         Graham, Miss. Margaret Edith\n",
              "888             Johnston, Miss. Catherine Helen \"Carrie\"\n",
              "889                                Behr, Mr. Karl Howell\n",
              "890                                  Dooley, Mr. Patrick\n",
              "Name: Name, Length: 891, dtype: object"
            ]
          },
          "metadata": {
            "tags": []
          },
          "execution_count": 14
        }
      ]
    },
    {
      "cell_type": "code",
      "metadata": {
        "id": "5Hyg6iGXfiEY",
        "colab_type": "code",
        "colab": {}
      },
      "source": [
        "train['Init'] = train['Name'].apply(lambda name: re.findall(r'([a-zA-Z]+\\.)', name)[0])"
      ],
      "execution_count": 0,
      "outputs": []
    },
    {
      "cell_type": "code",
      "metadata": {
        "id": "I5nLH_4gjZTn",
        "colab_type": "code",
        "outputId": "a5d793a3-db1a-4336-be87-f6da9d90f3a8",
        "colab": {
          "base_uri": "https://localhost:8080/",
          "height": 142
        }
      },
      "source": [
        "agg = train.groupby(['Init', 'Sex'], as_index=False).agg({'PassengerId':'count'})\n",
        "\n",
        "agg.pivot(index='Sex',columns='Init',values='PassengerId')"
      ],
      "execution_count": 16,
      "outputs": [
        {
          "output_type": "execute_result",
          "data": {
            "text/html": [
              "<div>\n",
              "<style scoped>\n",
              "    .dataframe tbody tr th:only-of-type {\n",
              "        vertical-align: middle;\n",
              "    }\n",
              "\n",
              "    .dataframe tbody tr th {\n",
              "        vertical-align: top;\n",
              "    }\n",
              "\n",
              "    .dataframe thead th {\n",
              "        text-align: right;\n",
              "    }\n",
              "</style>\n",
              "<table border=\"1\" class=\"dataframe\">\n",
              "  <thead>\n",
              "    <tr style=\"text-align: right;\">\n",
              "      <th>Init</th>\n",
              "      <th>Capt.</th>\n",
              "      <th>Col.</th>\n",
              "      <th>Countess.</th>\n",
              "      <th>Don.</th>\n",
              "      <th>Dr.</th>\n",
              "      <th>Jonkheer.</th>\n",
              "      <th>Lady.</th>\n",
              "      <th>Major.</th>\n",
              "      <th>Master.</th>\n",
              "      <th>Miss.</th>\n",
              "      <th>Mlle.</th>\n",
              "      <th>Mme.</th>\n",
              "      <th>Mr.</th>\n",
              "      <th>Mrs.</th>\n",
              "      <th>Ms.</th>\n",
              "      <th>Rev.</th>\n",
              "      <th>Sir.</th>\n",
              "    </tr>\n",
              "    <tr>\n",
              "      <th>Sex</th>\n",
              "      <th></th>\n",
              "      <th></th>\n",
              "      <th></th>\n",
              "      <th></th>\n",
              "      <th></th>\n",
              "      <th></th>\n",
              "      <th></th>\n",
              "      <th></th>\n",
              "      <th></th>\n",
              "      <th></th>\n",
              "      <th></th>\n",
              "      <th></th>\n",
              "      <th></th>\n",
              "      <th></th>\n",
              "      <th></th>\n",
              "      <th></th>\n",
              "      <th></th>\n",
              "    </tr>\n",
              "  </thead>\n",
              "  <tbody>\n",
              "    <tr>\n",
              "      <th>female</th>\n",
              "      <td>NaN</td>\n",
              "      <td>NaN</td>\n",
              "      <td>1.0</td>\n",
              "      <td>NaN</td>\n",
              "      <td>1.0</td>\n",
              "      <td>NaN</td>\n",
              "      <td>1.0</td>\n",
              "      <td>NaN</td>\n",
              "      <td>NaN</td>\n",
              "      <td>182.0</td>\n",
              "      <td>2.0</td>\n",
              "      <td>1.0</td>\n",
              "      <td>NaN</td>\n",
              "      <td>125.0</td>\n",
              "      <td>1.0</td>\n",
              "      <td>NaN</td>\n",
              "      <td>NaN</td>\n",
              "    </tr>\n",
              "    <tr>\n",
              "      <th>male</th>\n",
              "      <td>1.0</td>\n",
              "      <td>2.0</td>\n",
              "      <td>NaN</td>\n",
              "      <td>1.0</td>\n",
              "      <td>6.0</td>\n",
              "      <td>1.0</td>\n",
              "      <td>NaN</td>\n",
              "      <td>2.0</td>\n",
              "      <td>40.0</td>\n",
              "      <td>NaN</td>\n",
              "      <td>NaN</td>\n",
              "      <td>NaN</td>\n",
              "      <td>517.0</td>\n",
              "      <td>NaN</td>\n",
              "      <td>NaN</td>\n",
              "      <td>6.0</td>\n",
              "      <td>1.0</td>\n",
              "    </tr>\n",
              "  </tbody>\n",
              "</table>\n",
              "</div>"
            ],
            "text/plain": [
              "Init    Capt.  Col.  Countess.  Don.  Dr.  ...    Mr.   Mrs.  Ms.  Rev.  Sir.\n",
              "Sex                                        ...                               \n",
              "female    NaN   NaN        1.0   NaN  1.0  ...    NaN  125.0  1.0   NaN   NaN\n",
              "male      1.0   2.0        NaN   1.0  6.0  ...  517.0    NaN  NaN   6.0   1.0\n",
              "\n",
              "[2 rows x 17 columns]"
            ]
          },
          "metadata": {
            "tags": []
          },
          "execution_count": 16
        }
      ]
    },
    {
      "cell_type": "code",
      "metadata": {
        "id": "bIwOOohHo-oT",
        "colab_type": "code",
        "outputId": "3d9dfdcc-c3e7-4b2c-c331-51363bbc5bbc",
        "colab": {
          "base_uri": "https://localhost:8080/",
          "height": 68
        }
      },
      "source": [
        "agg.Init.values"
      ],
      "execution_count": 17,
      "outputs": [
        {
          "output_type": "execute_result",
          "data": {
            "text/plain": [
              "array(['Capt.', 'Col.', 'Countess.', 'Don.', 'Dr.', 'Dr.', 'Jonkheer.',\n",
              "       'Lady.', 'Major.', 'Master.', 'Miss.', 'Mlle.', 'Mme.', 'Mr.',\n",
              "       'Mrs.', 'Ms.', 'Rev.', 'Sir.'], dtype=object)"
            ]
          },
          "metadata": {
            "tags": []
          },
          "execution_count": 17
        }
      ]
    },
    {
      "cell_type": "code",
      "metadata": {
        "id": "5683m6G5pGvp",
        "colab_type": "code",
        "colab": {}
      },
      "source": [
        "train['Init'].replace(\n",
        "    ['Capt.', 'Col.', 'Countess.', 'Don.', 'Dr.', 'Jonkheer.', 'Lady.', 'Major.', 'Master.', 'Miss.', 'Mlle.', 'Mme.', 'Ms.', 'Rev.', 'Sir.'],\n",
        "    ['Mr.', 'Other.', 'Other.', 'Other.', 'Other.', 'Other.', 'Miss.', 'Mr.', 'Master.', 'Miss.', 'Miss.', 'Miss.', 'Miss.', 'Mr.', 'Mr.'],\n",
        "    inplace=True\n",
        ")"
      ],
      "execution_count": 0,
      "outputs": []
    },
    {
      "cell_type": "code",
      "metadata": {
        "id": "T5FdLXBGa6Yh",
        "colab_type": "code",
        "outputId": "56768737-05c0-48f2-dc26-42ddc7314cf1",
        "colab": {
          "base_uri": "https://localhost:8080/",
          "height": 142
        }
      },
      "source": [
        "agg = train.groupby(['Init', 'Sex'], as_index=False).agg({'PassengerId':'count'})\n",
        "\n",
        "agg.pivot(index='Sex',columns='Init',values='PassengerId')"
      ],
      "execution_count": 19,
      "outputs": [
        {
          "output_type": "execute_result",
          "data": {
            "text/html": [
              "<div>\n",
              "<style scoped>\n",
              "    .dataframe tbody tr th:only-of-type {\n",
              "        vertical-align: middle;\n",
              "    }\n",
              "\n",
              "    .dataframe tbody tr th {\n",
              "        vertical-align: top;\n",
              "    }\n",
              "\n",
              "    .dataframe thead th {\n",
              "        text-align: right;\n",
              "    }\n",
              "</style>\n",
              "<table border=\"1\" class=\"dataframe\">\n",
              "  <thead>\n",
              "    <tr style=\"text-align: right;\">\n",
              "      <th>Init</th>\n",
              "      <th>Master.</th>\n",
              "      <th>Miss.</th>\n",
              "      <th>Mr.</th>\n",
              "      <th>Mrs.</th>\n",
              "      <th>Other.</th>\n",
              "    </tr>\n",
              "    <tr>\n",
              "      <th>Sex</th>\n",
              "      <th></th>\n",
              "      <th></th>\n",
              "      <th></th>\n",
              "      <th></th>\n",
              "      <th></th>\n",
              "    </tr>\n",
              "  </thead>\n",
              "  <tbody>\n",
              "    <tr>\n",
              "      <th>female</th>\n",
              "      <td>NaN</td>\n",
              "      <td>187.0</td>\n",
              "      <td>NaN</td>\n",
              "      <td>125.0</td>\n",
              "      <td>2.0</td>\n",
              "    </tr>\n",
              "    <tr>\n",
              "      <th>male</th>\n",
              "      <td>40.0</td>\n",
              "      <td>NaN</td>\n",
              "      <td>527.0</td>\n",
              "      <td>NaN</td>\n",
              "      <td>10.0</td>\n",
              "    </tr>\n",
              "  </tbody>\n",
              "</table>\n",
              "</div>"
            ],
            "text/plain": [
              "Init    Master.  Miss.    Mr.   Mrs.  Other.\n",
              "Sex                                         \n",
              "female      NaN  187.0    NaN  125.0     2.0\n",
              "male       40.0    NaN  527.0    NaN    10.0"
            ]
          },
          "metadata": {
            "tags": []
          },
          "execution_count": 19
        }
      ]
    },
    {
      "cell_type": "markdown",
      "metadata": {
        "id": "x3budhO2Z9kR",
        "colab_type": "text"
      },
      "source": [
        "### Sex\n",
        "\n",
        "Summary:\n",
        "- No Missing\n",
        "- male has 64.8%; female has 35.2%\n",
        "- most of female are survivied"
      ]
    },
    {
      "cell_type": "code",
      "metadata": {
        "id": "oTGI6nl5Zsj3",
        "colab_type": "code",
        "outputId": "2f692b15-a13c-4b04-ebc3-8487fc0044d4",
        "colab": {
          "base_uri": "https://localhost:8080/",
          "height": 0
        }
      },
      "source": [
        "print (\"Has Nans:\", train['Sex'].hasnans)"
      ],
      "execution_count": 20,
      "outputs": [
        {
          "output_type": "stream",
          "text": [
            "Has Nans: False\n"
          ],
          "name": "stdout"
        }
      ]
    },
    {
      "cell_type": "code",
      "metadata": {
        "id": "N3uvUAphZ7BY",
        "colab_type": "code",
        "outputId": "387d8d39-580e-41dd-e2c4-631fd4377a3e",
        "colab": {
          "base_uri": "https://localhost:8080/",
          "height": 0
        }
      },
      "source": [
        "train['Sex'].unique()"
      ],
      "execution_count": 21,
      "outputs": [
        {
          "output_type": "execute_result",
          "data": {
            "text/plain": [
              "array(['male', 'female'], dtype=object)"
            ]
          },
          "metadata": {
            "tags": []
          },
          "execution_count": 21
        }
      ]
    },
    {
      "cell_type": "code",
      "metadata": {
        "id": "_up6QadnXB2A",
        "colab_type": "code",
        "outputId": "8688ae83-b5c4-4d8d-d14b-3db9370e41e1",
        "colab": {
          "base_uri": "https://localhost:8080/",
          "height": 0
        }
      },
      "source": [
        "# Plot the Column: Sex\n",
        "\n",
        "plt.figure(figsize=(21,7)) # Define figure size\n",
        "\n",
        "# Check the total distribution\n",
        "plt.subplot(1,2,1)\n",
        "\n",
        "agg = train.groupby(['Sex'], as_index=False).agg({'PassengerId':'count'})\n",
        "\n",
        "plt.pie(\n",
        "    agg['PassengerId'], \n",
        "    explode=[0.1, 0], \n",
        "    labels=agg['Sex'], \n",
        "    autopct=\"%1.1f%%\", \n",
        "    pctdistance=0.6, \n",
        "    shadow=True, \n",
        "    labeldistance=1.1\n",
        ")\n",
        "plt.title(\"Sex\")\n",
        "\n",
        "\n",
        "# Check the distribution on different Survived\n",
        "plt.subplot(1,2,2)\n",
        "\n",
        "agg = train.groupby(['Sex', 'Survived'], as_index=False).agg({'PassengerId':'count'})\n",
        "sns.barplot(x='Sex', y='PassengerId', hue='Survived', data=agg)\n",
        "\n",
        "plt.title('Sex vs Survived')\n",
        "plt.xlabel('Sex')\n",
        "plt.ylabel('Frequency')\n",
        "\n",
        "plt.show()"
      ],
      "execution_count": 22,
      "outputs": [
        {
          "output_type": "display_data",
          "data": {
            "image/png": "[encoded data removed]",
            "text/plain": [
              "<Figure size 1512x504 with 2 Axes>"
            ]
          },
          "metadata": {
            "tags": []
          }
        }
      ]
    },
    {
      "cell_type": "markdown",
      "metadata": {
        "id": "ak4COr0Ha-ST",
        "colab_type": "text"
      },
      "source": [
        "### Age\n",
        "\n",
        "Age is fractional if less than 1. If the age is estimated, is it in the form of xx.5\n",
        "\n",
        "Summary:\n",
        "- 19.87% Missing \n",
        "- Age from 0.42 to 80.0, mean is 29.70"
      ]
    },
    {
      "cell_type": "code",
      "metadata": {
        "id": "hutqpEwDbLFE",
        "colab_type": "code",
        "outputId": "92a740ec-8ec1-4f97-9359-c678003ba5bb",
        "colab": {
          "base_uri": "https://localhost:8080/",
          "height": 0
        }
      },
      "source": [
        "print (\"Has Nans: {:s},\".format(str(train['Age'].hasnans)),\n",
        "       \"{:.2f}% of Nans\".format((1 - train['Age'].dropna().shape[0] / train.shape[0])*100))"
      ],
      "execution_count": 23,
      "outputs": [
        {
          "output_type": "stream",
          "text": [
            "Has Nans: True, 19.87% of Nans\n"
          ],
          "name": "stdout"
        }
      ]
    },
    {
      "cell_type": "code",
      "metadata": {
        "id": "lBv_NluejlDw",
        "colab_type": "code",
        "outputId": "27c75a69-b492-4595-877e-650e639f06b3",
        "colab": {
          "base_uri": "https://localhost:8080/",
          "height": 0
        }
      },
      "source": [
        "print (\"Max age:\", train['Age'].max())\n",
        "print (\"Min age:\", train['Age'].min())\n",
        "print (\"Mean age:\", train['Age'].mean())"
      ],
      "execution_count": 24,
      "outputs": [
        {
          "output_type": "stream",
          "text": [
            "Max age: 80.0\n",
            "Min age: 0.42\n",
            "Mean age: 29.69911764705882\n"
          ],
          "name": "stdout"
        }
      ]
    },
    {
      "cell_type": "code",
      "metadata": {
        "id": "ypt3LHQngUJl",
        "colab_type": "code",
        "outputId": "b3120d3a-a8a1-4673-e528-6597f8bff106",
        "colab": {
          "base_uri": "https://localhost:8080/",
          "height": 0
        }
      },
      "source": [
        "plt.figure(figsize=(21,7)) # Define figure size\n",
        "\n",
        "sns.distplot(train['Age'],)\n",
        "\n",
        "plt.show()"
      ],
      "execution_count": 25,
      "outputs": [
        {
          "output_type": "display_data",
          "data": {
            "image/png": "[encoded data removed]",
            "text/plain": [
              "<Figure size 1512x504 with 1 Axes>"
            ]
          },
          "metadata": {
            "tags": []
          }
        }
      ]
    },
    {
      "cell_type": "code",
      "metadata": {
        "id": "JlgxSpicfGt8",
        "colab_type": "code",
        "outputId": "83ee8348-db26-4ffe-c7df-039bbff8d6e8",
        "colab": {
          "base_uri": "https://localhost:8080/",
          "height": 0
        }
      },
      "source": [
        "# Plot the Column: Age\n",
        "\n",
        "plt.figure(figsize=(21,7)) # Define figure size\n",
        "\n",
        "# Check the total distribution\n",
        "plt.subplot(1,2,1)\n",
        "\n",
        "sns.violinplot(\"Pclass\",\"Age\", hue=\"Survived\", data=train, split=True)\n",
        "\n",
        "plt.title('Age & Pclass vs Survived')\n",
        "plt.yticks(range(0,110,10))\n",
        "\n",
        "# Check the distribution on different Survived\n",
        "plt.subplot(1,2,2)\n",
        "\n",
        "sns.violinplot(\"Sex\",\"Age\", hue=\"Survived\", data=train, split=True)\n",
        "\n",
        "plt.title('Age & Sex vs Survived')\n",
        "plt.yticks(range(0,110,10))\n",
        "\n",
        "plt.show()"
      ],
      "execution_count": 26,
      "outputs": [
        {
          "output_type": "display_data",
          "data": {
            "image/png": "[encoded data removed]",
            "text/plain": [
              "<Figure size 1512x504 with 2 Axes>"
            ]
          },
          "metadata": {
            "tags": []
          }
        }
      ]
    },
    {
      "cell_type": "markdown",
      "metadata": {
        "id": "8ZPKOsA5a-V-",
        "colab_type": "text"
      },
      "source": [
        "### SibSp\n",
        "\n",
        "sibsp: The dataset defines family relations in this way...\n",
        "- Sibling = brother, sister, stepbrother, stepsister\n",
        "- Spouse = husband, wife (mistresses and fiancés were ignored)\n",
        "\n",
        "Summary:\n",
        "- No Missing\n",
        "- Value: 0, 1, 2, 3, 4, 5, 8"
      ]
    },
    {
      "cell_type": "code",
      "metadata": {
        "id": "NqtWzLbHcVf7",
        "colab_type": "code",
        "outputId": "c344228d-44f6-4bf1-9cea-10a5e5c8446f",
        "colab": {
          "base_uri": "https://localhost:8080/",
          "height": 0
        }
      },
      "source": [
        "print (\"Has Nans:\", train['SibSp'].hasnans)"
      ],
      "execution_count": 27,
      "outputs": [
        {
          "output_type": "stream",
          "text": [
            "Has Nans: False\n"
          ],
          "name": "stdout"
        }
      ]
    },
    {
      "cell_type": "code",
      "metadata": {
        "id": "m8x2LOyWgEJk",
        "colab_type": "code",
        "outputId": "657b4efe-090d-42dd-b26d-d121d9e68871",
        "colab": {
          "base_uri": "https://localhost:8080/",
          "height": 0
        }
      },
      "source": [
        "train['SibSp'].unique()"
      ],
      "execution_count": 28,
      "outputs": [
        {
          "output_type": "execute_result",
          "data": {
            "text/plain": [
              "array([1, 0, 3, 4, 2, 5, 8])"
            ]
          },
          "metadata": {
            "tags": []
          },
          "execution_count": 28
        }
      ]
    },
    {
      "cell_type": "code",
      "metadata": {
        "id": "rAuuOH9mgNSe",
        "colab_type": "code",
        "outputId": "0409b491-14d4-4664-e7e0-353122083dd9",
        "colab": {
          "base_uri": "https://localhost:8080/",
          "height": 0
        }
      },
      "source": [
        "# Plot the Column: SibSp\n",
        "\n",
        "plt.figure(figsize=(20,7)) # Define figure size\n",
        "\n",
        "# Check the total distribution\n",
        "plt.subplot(1,2,1)\n",
        "\n",
        "agg = train.groupby(['SibSp'], as_index=False).agg({'PassengerId':'count'})\n",
        "sns.barplot(x='SibSp', y='PassengerId', data=agg)\n",
        "\n",
        "plt.title('Distribution of SibSp')\n",
        "plt.xlabel('SibSp')\n",
        "plt.ylabel('Frequency')\n",
        "\n",
        "# Check the distribution on different Survived\n",
        "plt.subplot(1,2,2)\n",
        "\n",
        "agg = train.groupby(['SibSp', 'Survived'], as_index=False).agg({'PassengerId':'count'})\n",
        "sns.barplot(x='SibSp', y='PassengerId', hue='Survived', data=agg)\n",
        "\n",
        "plt.title('Distribution of SibSp on Survived')\n",
        "plt.xlabel('SibSp')\n",
        "plt.ylabel('Frequency')\n",
        "plt.legend(loc='upper right', fontsize='large', title='Survived')\n",
        "\n",
        "plt.show()"
      ],
      "execution_count": 29,
      "outputs": [
        {
          "output_type": "display_data",
          "data": {
            "image/png": "[encoded data removed]",
            "text/plain": [
              "<Figure size 1440x504 with 2 Axes>"
            ]
          },
          "metadata": {
            "tags": []
          }
        }
      ]
    },
    {
      "cell_type": "markdown",
      "metadata": {
        "id": "ZP0uzRuCa-aU",
        "colab_type": "text"
      },
      "source": [
        "### Parch\n",
        "\n",
        "parch: The dataset defines family relations in this way...\n",
        "- Parent = mother, father\n",
        "- Child = daughter, son, stepdaughter, stepson\n",
        "- Some children travelled only with a nanny, therefore parch=0 for them.\n",
        "\n",
        "Summary:\n",
        "- No Missing\n",
        "- Value: 0, 1, 2, 3, 4, 5, 6"
      ]
    },
    {
      "cell_type": "code",
      "metadata": {
        "id": "yhk7j9rHcYJT",
        "colab_type": "code",
        "outputId": "f7cdd064-e5c5-472a-d01d-b8b54948b7a1",
        "colab": {
          "base_uri": "https://localhost:8080/",
          "height": 0
        }
      },
      "source": [
        "print (\"Has Nans:\", train['Parch'].hasnans)"
      ],
      "execution_count": 30,
      "outputs": [
        {
          "output_type": "stream",
          "text": [
            "Has Nans: False\n"
          ],
          "name": "stdout"
        }
      ]
    },
    {
      "cell_type": "code",
      "metadata": {
        "id": "OpDcAZlbgGJT",
        "colab_type": "code",
        "outputId": "835eac07-050c-4a35-b7c1-3aa473f934b0",
        "colab": {
          "base_uri": "https://localhost:8080/",
          "height": 0
        }
      },
      "source": [
        "train['Parch'].unique()"
      ],
      "execution_count": 31,
      "outputs": [
        {
          "output_type": "execute_result",
          "data": {
            "text/plain": [
              "array([0, 1, 2, 5, 3, 4, 6])"
            ]
          },
          "metadata": {
            "tags": []
          },
          "execution_count": 31
        }
      ]
    },
    {
      "cell_type": "code",
      "metadata": {
        "id": "DEzm2RgigOQD",
        "colab_type": "code",
        "outputId": "85b9d6f0-2b59-4fce-d197-daf79a40445c",
        "colab": {
          "base_uri": "https://localhost:8080/",
          "height": 0
        }
      },
      "source": [
        "# Plot the Column: Parch\n",
        "\n",
        "plt.figure(figsize=(20,7)) # Define figure size\n",
        "\n",
        "# Check the total distribution\n",
        "plt.subplot(1,2,1)\n",
        "\n",
        "agg = train.groupby(['Parch'], as_index=False).agg({'PassengerId':'count'})\n",
        "sns.barplot(x='Parch', y='PassengerId', data=agg)\n",
        "\n",
        "plt.title('Distribution of Parch')\n",
        "plt.xlabel('Parch')\n",
        "plt.ylabel('Frequency')\n",
        "\n",
        "# Check the distribution on different Survived\n",
        "plt.subplot(1,2,2)\n",
        "\n",
        "agg = train.groupby(['Parch', 'Survived'], as_index=False).agg({'PassengerId':'count'})\n",
        "sns.barplot(x='Parch', y='PassengerId', hue='Survived', data=agg)\n",
        "\n",
        "plt.title('Distribution of Parch on Survived')\n",
        "plt.xlabel('Parch')\n",
        "plt.ylabel('Frequency')\n",
        "plt.legend(loc='upper right', fontsize='large', title='Survived')\n",
        "\n",
        "plt.show()"
      ],
      "execution_count": 32,
      "outputs": [
        {
          "output_type": "display_data",
          "data": {
            "image/png": "[encoded data removed]",
            "text/plain": [
              "<Figure size 1440x504 with 2 Axes>"
            ]
          },
          "metadata": {
            "tags": []
          }
        }
      ]
    },
    {
      "cell_type": "markdown",
      "metadata": {
        "id": "7N3ip-n0a-fG",
        "colab_type": "text"
      },
      "source": [
        "### Ticket"
      ]
    },
    {
      "cell_type": "code",
      "metadata": {
        "id": "4VzYUcj8cYnk",
        "colab_type": "code",
        "outputId": "26f353f9-0deb-4cb9-d1ca-495eaa28be3f",
        "colab": {
          "base_uri": "https://localhost:8080/",
          "height": 34
        }
      },
      "source": [
        "print (\"Has Nans:\", train['Ticket'].hasnans)"
      ],
      "execution_count": 33,
      "outputs": [
        {
          "output_type": "stream",
          "text": [
            "Has Nans: False\n"
          ],
          "name": "stdout"
        }
      ]
    },
    {
      "cell_type": "code",
      "metadata": {
        "id": "KmswK0KtkLja",
        "colab_type": "code",
        "outputId": "b9cfc265-3691-4096-be14-8e5f6b2483cc",
        "colab": {
          "base_uri": "https://localhost:8080/",
          "height": 34
        }
      },
      "source": [
        "len(train['Ticket'].unique()) / train.shape[0]"
      ],
      "execution_count": 34,
      "outputs": [
        {
          "output_type": "execute_result",
          "data": {
            "text/plain": [
              "0.7643097643097643"
            ]
          },
          "metadata": {
            "tags": []
          },
          "execution_count": 34
        }
      ]
    },
    {
      "cell_type": "markdown",
      "metadata": {
        "id": "-14ncxZEa-i7",
        "colab_type": "text"
      },
      "source": [
        "### Fare"
      ]
    },
    {
      "cell_type": "code",
      "metadata": {
        "id": "w20Y4cA6cZE_",
        "colab_type": "code",
        "outputId": "b2eedd87-44d9-4b4a-de83-b36eeac0199c",
        "colab": {
          "base_uri": "https://localhost:8080/",
          "height": 34
        }
      },
      "source": [
        "print (\"Has Nans:\", train['Fare'].hasnans)"
      ],
      "execution_count": 35,
      "outputs": [
        {
          "output_type": "stream",
          "text": [
            "Has Nans: False\n"
          ],
          "name": "stdout"
        }
      ]
    },
    {
      "cell_type": "code",
      "metadata": {
        "id": "PWotQaMfkcpK",
        "colab_type": "code",
        "outputId": "78eb1817-9ec0-498c-a267-6c129152045d",
        "colab": {
          "base_uri": "https://localhost:8080/",
          "height": 34
        }
      },
      "source": [
        "len(train['Fare'].unique()) / train.shape[0]"
      ],
      "execution_count": 36,
      "outputs": [
        {
          "output_type": "execute_result",
          "data": {
            "text/plain": [
              "0.2783389450056117"
            ]
          },
          "metadata": {
            "tags": []
          },
          "execution_count": 36
        }
      ]
    },
    {
      "cell_type": "code",
      "metadata": {
        "id": "2CnJZI6qkl3O",
        "colab_type": "code",
        "outputId": "e0d2ba80-d8da-4ad8-fa2e-e807b093b130",
        "colab": {
          "base_uri": "https://localhost:8080/",
          "height": 51
        }
      },
      "source": [
        "print (\"Max Fare:\", train['Fare'].max())\n",
        "print (\"Min Fare:\", train['Fare'].min())"
      ],
      "execution_count": 37,
      "outputs": [
        {
          "output_type": "stream",
          "text": [
            "Max Fare: 512.3292\n",
            "Min Fare: 0.0\n"
          ],
          "name": "stdout"
        }
      ]
    },
    {
      "cell_type": "code",
      "metadata": {
        "id": "BHQkMEUQkpVP",
        "colab_type": "code",
        "outputId": "347665fa-4255-4b20-f3c2-e3b875772a5c",
        "colab": {
          "base_uri": "https://localhost:8080/",
          "height": 448
        }
      },
      "source": [
        "plt.figure(figsize=(21,7)) # Define figure size\n",
        "\n",
        "sns.distplot(train['Fare'],)\n",
        "\n",
        "plt.show()"
      ],
      "execution_count": 38,
      "outputs": [
        {
          "output_type": "display_data",
          "data": {
            "image/png": "[encoded data removed]",
            "text/plain": [
              "<Figure size 1512x504 with 1 Axes>"
            ]
          },
          "metadata": {
            "tags": []
          }
        }
      ]
    },
    {
      "cell_type": "markdown",
      "metadata": {
        "id": "dtxsPdWka-n9",
        "colab_type": "text"
      },
      "source": [
        "### Cabin\n",
        "\n",
        "Summary:\n",
        "\n",
        "- 77.1% of value are MISSING -> Drop it"
      ]
    },
    {
      "cell_type": "code",
      "metadata": {
        "id": "Ry5pyoYYcZlk",
        "colab_type": "code",
        "outputId": "c165a0c3-9ab3-46c7-f507-08ff42be635b",
        "colab": {
          "base_uri": "https://localhost:8080/",
          "height": 34
        }
      },
      "source": [
        "print (\"Has Nans: {:s},\".format(str(train['Cabin'].hasnans)),\n",
        "       \"{:.2f}% of Nans\".format((1 - train['Cabin'].dropna().shape[0] / train.shape[0])*100))"
      ],
      "execution_count": 39,
      "outputs": [
        {
          "output_type": "stream",
          "text": [
            "Has Nans: True, 77.10% of Nans\n"
          ],
          "name": "stdout"
        }
      ]
    },
    {
      "cell_type": "markdown",
      "metadata": {
        "id": "h_gJG-WWa-wY",
        "colab_type": "text"
      },
      "source": [
        "### Embarked\n",
        "\n",
        "- C = Cherbourg;\n",
        "- Q = Queenstown;\n",
        "- S = Southampton\n",
        "\n",
        "Summary:\n",
        "\n",
        "- 0.22% of value are MISSING.\n",
        "- most value is  `S` -> fill in the nan"
      ]
    },
    {
      "cell_type": "code",
      "metadata": {
        "id": "YYwHva7iYhPp",
        "colab_type": "code",
        "outputId": "07904c19-390c-4057-ac4c-8569f07d05d5",
        "colab": {
          "base_uri": "https://localhost:8080/",
          "height": 0
        }
      },
      "source": [
        "print (\"Has Nans: {:s},\".format(str(train['Embarked'].hasnans)),\n",
        "       \"{:.2f}% of Nans\".format((1 - train['Embarked'].dropna().shape[0] / train.shape[0])*100))"
      ],
      "execution_count": 40,
      "outputs": [
        {
          "output_type": "stream",
          "text": [
            "Has Nans: True, 0.22% of Nans\n"
          ],
          "name": "stdout"
        }
      ]
    },
    {
      "cell_type": "code",
      "metadata": {
        "id": "JiL9jmKTcbL-",
        "colab_type": "code",
        "outputId": "ce0ddfb0-3ee6-4797-a8ff-8c81ee2cb6d7",
        "colab": {
          "base_uri": "https://localhost:8080/",
          "height": 0
        }
      },
      "source": [
        "# Plot the Column: Sex\n",
        "\n",
        "plt.figure(figsize=(21,7)) # Define figure size\n",
        "\n",
        "# Check the total distribution\n",
        "plt.subplot(1,2,1)\n",
        "\n",
        "agg = train.groupby(['Embarked'], as_index=False).agg({'PassengerId':'count'})\n",
        "\n",
        "plt.pie(\n",
        "    agg['PassengerId'], \n",
        "    explode=[0, 0, 0.1], \n",
        "    labels=agg['Embarked'], \n",
        "    autopct=\"%1.1f%%\", \n",
        "    pctdistance=0.6, \n",
        "    shadow=True, \n",
        "    labeldistance=1.1\n",
        ")\n",
        "plt.title(\"Embarked\")\n",
        "\n",
        "\n",
        "# Check the distribution on different Survived\n",
        "plt.subplot(1,2,2)\n",
        "\n",
        "agg = train.groupby(['Embarked', 'Survived'], as_index=False).agg({'PassengerId':'count'})\n",
        "sns.barplot(x='Embarked', y='PassengerId', hue='Survived', data=agg)\n",
        "\n",
        "plt.title('Embarked vs Survived')\n",
        "plt.xlabel('Embarked')\n",
        "plt.ylabel('Frequency')\n",
        "\n",
        "plt.show()"
      ],
      "execution_count": 41,
      "outputs": [
        {
          "output_type": "display_data",
          "data": {
            "image/png": "[encoded data removed]",
            "text/plain": [
              "<Figure size 1512x504 with 2 Axes>"
            ]
          },
          "metadata": {
            "tags": []
          }
        }
      ]
    },
    {
      "cell_type": "markdown",
      "metadata": {
        "id": "QpJH8m_3yxXC",
        "colab_type": "text"
      },
      "source": [
        "## Data Clean"
      ]
    },
    {
      "cell_type": "code",
      "metadata": {
        "id": "uXTa6Cbh7Imy",
        "colab_type": "code",
        "colab": {
          "base_uri": "https://localhost:8080/",
          "height": 419
        },
        "outputId": "10b6f1e9-2f8b-446e-9645-9016078c4d53"
      },
      "source": [
        "train"
      ],
      "execution_count": 42,
      "outputs": [
        {
          "output_type": "execute_result",
          "data": {
            "text/html": [
              "<div>\n",
              "<style scoped>\n",
              "    .dataframe tbody tr th:only-of-type {\n",
              "        vertical-align: middle;\n",
              "    }\n",
              "\n",
              "    .dataframe tbody tr th {\n",
              "        vertical-align: top;\n",
              "    }\n",
              "\n",
              "    .dataframe thead th {\n",
              "        text-align: right;\n",
              "    }\n",
              "</style>\n",
              "<table border=\"1\" class=\"dataframe\">\n",
              "  <thead>\n",
              "    <tr style=\"text-align: right;\">\n",
              "      <th></th>\n",
              "      <th>PassengerId</th>\n",
              "      <th>Survived</th>\n",
              "      <th>Pclass</th>\n",
              "      <th>Name</th>\n",
              "      <th>Sex</th>\n",
              "      <th>Age</th>\n",
              "      <th>SibSp</th>\n",
              "      <th>Parch</th>\n",
              "      <th>Ticket</th>\n",
              "      <th>Fare</th>\n",
              "      <th>Cabin</th>\n",
              "      <th>Embarked</th>\n",
              "      <th>Init</th>\n",
              "    </tr>\n",
              "  </thead>\n",
              "  <tbody>\n",
              "    <tr>\n",
              "      <th>0</th>\n",
              "      <td>1</td>\n",
              "      <td>0</td>\n",
              "      <td>3</td>\n",
              "      <td>Braund, Mr. Owen Harris</td>\n",
              "      <td>male</td>\n",
              "      <td>22.0</td>\n",
              "      <td>1</td>\n",
              "      <td>0</td>\n",
              "      <td>A/5 21171</td>\n",
              "      <td>7.2500</td>\n",
              "      <td>NaN</td>\n",
              "      <td>S</td>\n",
              "      <td>Mr.</td>\n",
              "    </tr>\n",
              "    <tr>\n",
              "      <th>1</th>\n",
              "      <td>2</td>\n",
              "      <td>1</td>\n",
              "      <td>1</td>\n",
              "      <td>Cumings, Mrs. John Bradley (Florence Briggs Th...</td>\n",
              "      <td>female</td>\n",
              "      <td>38.0</td>\n",
              "      <td>1</td>\n",
              "      <td>0</td>\n",
              "      <td>PC 17599</td>\n",
              "      <td>71.2833</td>\n",
              "      <td>C85</td>\n",
              "      <td>C</td>\n",
              "      <td>Mrs.</td>\n",
              "    </tr>\n",
              "    <tr>\n",
              "      <th>2</th>\n",
              "      <td>3</td>\n",
              "      <td>1</td>\n",
              "      <td>3</td>\n",
              "      <td>Heikkinen, Miss. Laina</td>\n",
              "      <td>female</td>\n",
              "      <td>26.0</td>\n",
              "      <td>0</td>\n",
              "      <td>0</td>\n",
              "      <td>STON/O2. 3101282</td>\n",
              "      <td>7.9250</td>\n",
              "      <td>NaN</td>\n",
              "      <td>S</td>\n",
              "      <td>Miss.</td>\n",
              "    </tr>\n",
              "    <tr>\n",
              "      <th>3</th>\n",
              "      <td>4</td>\n",
              "      <td>1</td>\n",
              "      <td>1</td>\n",
              "      <td>Futrelle, Mrs. Jacques Heath (Lily May Peel)</td>\n",
              "      <td>female</td>\n",
              "      <td>35.0</td>\n",
              "      <td>1</td>\n",
              "      <td>0</td>\n",
              "      <td>113803</td>\n",
              "      <td>53.1000</td>\n",
              "      <td>C123</td>\n",
              "      <td>S</td>\n",
              "      <td>Mrs.</td>\n",
              "    </tr>\n",
              "    <tr>\n",
              "      <th>4</th>\n",
              "      <td>5</td>\n",
              "      <td>0</td>\n",
              "      <td>3</td>\n",
              "      <td>Allen, Mr. William Henry</td>\n",
              "      <td>male</td>\n",
              "      <td>35.0</td>\n",
              "      <td>0</td>\n",
              "      <td>0</td>\n",
              "      <td>373450</td>\n",
              "      <td>8.0500</td>\n",
              "      <td>NaN</td>\n",
              "      <td>S</td>\n",
              "      <td>Mr.</td>\n",
              "    </tr>\n",
              "    <tr>\n",
              "      <th>...</th>\n",
              "      <td>...</td>\n",
              "      <td>...</td>\n",
              "      <td>...</td>\n",
              "      <td>...</td>\n",
              "      <td>...</td>\n",
              "      <td>...</td>\n",
              "      <td>...</td>\n",
              "      <td>...</td>\n",
              "      <td>...</td>\n",
              "      <td>...</td>\n",
              "      <td>...</td>\n",
              "      <td>...</td>\n",
              "      <td>...</td>\n",
              "    </tr>\n",
              "    <tr>\n",
              "      <th>886</th>\n",
              "      <td>887</td>\n",
              "      <td>0</td>\n",
              "      <td>2</td>\n",
              "      <td>Montvila, Rev. Juozas</td>\n",
              "      <td>male</td>\n",
              "      <td>27.0</td>\n",
              "      <td>0</td>\n",
              "      <td>0</td>\n",
              "      <td>211536</td>\n",
              "      <td>13.0000</td>\n",
              "      <td>NaN</td>\n",
              "      <td>S</td>\n",
              "      <td>Mr.</td>\n",
              "    </tr>\n",
              "    <tr>\n",
              "      <th>887</th>\n",
              "      <td>888</td>\n",
              "      <td>1</td>\n",
              "      <td>1</td>\n",
              "      <td>Graham, Miss. Margaret Edith</td>\n",
              "      <td>female</td>\n",
              "      <td>19.0</td>\n",
              "      <td>0</td>\n",
              "      <td>0</td>\n",
              "      <td>112053</td>\n",
              "      <td>30.0000</td>\n",
              "      <td>B42</td>\n",
              "      <td>S</td>\n",
              "      <td>Miss.</td>\n",
              "    </tr>\n",
              "    <tr>\n",
              "      <th>888</th>\n",
              "      <td>889</td>\n",
              "      <td>0</td>\n",
              "      <td>3</td>\n",
              "      <td>Johnston, Miss. Catherine Helen \"Carrie\"</td>\n",
              "      <td>female</td>\n",
              "      <td>NaN</td>\n",
              "      <td>1</td>\n",
              "      <td>2</td>\n",
              "      <td>W./C. 6607</td>\n",
              "      <td>23.4500</td>\n",
              "      <td>NaN</td>\n",
              "      <td>S</td>\n",
              "      <td>Miss.</td>\n",
              "    </tr>\n",
              "    <tr>\n",
              "      <th>889</th>\n",
              "      <td>890</td>\n",
              "      <td>1</td>\n",
              "      <td>1</td>\n",
              "      <td>Behr, Mr. Karl Howell</td>\n",
              "      <td>male</td>\n",
              "      <td>26.0</td>\n",
              "      <td>0</td>\n",
              "      <td>0</td>\n",
              "      <td>111369</td>\n",
              "      <td>30.0000</td>\n",
              "      <td>C148</td>\n",
              "      <td>C</td>\n",
              "      <td>Mr.</td>\n",
              "    </tr>\n",
              "    <tr>\n",
              "      <th>890</th>\n",
              "      <td>891</td>\n",
              "      <td>0</td>\n",
              "      <td>3</td>\n",
              "      <td>Dooley, Mr. Patrick</td>\n",
              "      <td>male</td>\n",
              "      <td>32.0</td>\n",
              "      <td>0</td>\n",
              "      <td>0</td>\n",
              "      <td>370376</td>\n",
              "      <td>7.7500</td>\n",
              "      <td>NaN</td>\n",
              "      <td>Q</td>\n",
              "      <td>Mr.</td>\n",
              "    </tr>\n",
              "  </tbody>\n",
              "</table>\n",
              "<p>891 rows × 13 columns</p>\n",
              "</div>"
            ],
            "text/plain": [
              "     PassengerId  Survived  Pclass  ... Cabin Embarked   Init\n",
              "0              1         0       3  ...   NaN        S    Mr.\n",
              "1              2         1       1  ...   C85        C   Mrs.\n",
              "2              3         1       3  ...   NaN        S  Miss.\n",
              "3              4         1       1  ...  C123        S   Mrs.\n",
              "4              5         0       3  ...   NaN        S    Mr.\n",
              "..           ...       ...     ...  ...   ...      ...    ...\n",
              "886          887         0       2  ...   NaN        S    Mr.\n",
              "887          888         1       1  ...   B42        S  Miss.\n",
              "888          889         0       3  ...   NaN        S  Miss.\n",
              "889          890         1       1  ...  C148        C    Mr.\n",
              "890          891         0       3  ...   NaN        Q    Mr.\n",
              "\n",
              "[891 rows x 13 columns]"
            ]
          },
          "metadata": {
            "tags": []
          },
          "execution_count": 42
        }
      ]
    },
    {
      "cell_type": "code",
      "metadata": {
        "id": "_wnOxiaIS3gc",
        "colab_type": "code",
        "outputId": "3f833a55-79c7-4288-db67-0d69448f9ba8",
        "colab": {
          "base_uri": "https://localhost:8080/",
          "height": 419
        }
      },
      "source": [
        "# Split the Features and Label\n",
        "y_train_ = train['Survived']\n",
        "x_train = train.drop(['Survived'], axis=1)\n",
        "\n",
        "# Concat the training and test feature\n",
        "features = pd.concat([x_train, test], sort=False, ignore_index=True)\n",
        "\n",
        "######################\n",
        "# Clean the Features #\n",
        "######################\n",
        "\n",
        "# Extract the Init from Name \n",
        "features['Init'] = features['Name'].apply(lambda name: re.findall(r'([a-zA-Z]+\\.)', name)[0])\n",
        "\n",
        "# Convert the Init to the following categories:\n",
        "# 'Mr.', 'Master.', 'Mrs.', 'Miss.', 'Other.'\n",
        "features['Init'].replace(\n",
        "    ['Capt.', 'Col.', 'Countess.', 'Don.', 'Dr.', 'Jonkheer.', 'Lady.', 'Major.', 'Master.', 'Miss.', 'Mlle.', 'Mme.', 'Ms.', 'Rev.', 'Sir.', 'Dona.'],\n",
        "    ['Mr.', 'Other.', 'Other.', 'Other.', 'Other.', 'Other.', 'Miss.', 'Mr.', 'Master.', 'Miss.', 'Miss.', 'Miss.', 'Miss.', 'Mr.', 'Mr.', 'Other.'],\n",
        "    inplace=True\n",
        ")\n",
        "\n",
        "# Fill the Nans in Age\n",
        "features['Age'] = features['Age'].fillna(train['Age'].mean())\n",
        "# features['Fare'] = features['Fare'].fillna(train['Fare'].mean())\n",
        "\n",
        "# Convert the Age to 4 groups\n",
        "features['Age_band']=0 # Initial a new column\n",
        "features.loc[(features['Age']>20)&(features['Age']<=40), 'Age_band']=1\n",
        "features.loc[(features['Age']>40)&(features['Age']<=60), 'Age_band']=2\n",
        "features.loc[features['Age']>60, 'Age_band']=3\n",
        "\n",
        "# Onehot encoding\n",
        "onehot = pd.get_dummies(features[['Sex','Init','Embarked']],prefix=['Sex','Init','Embarked'])\n",
        "features = features[['Pclass', 'Age_band', 'SibSp', 'Parch']]\n",
        "features_onehot = pd.merge(features,onehot,left_index=True,right_index=True)\n",
        "\n",
        "features_onehot\n"
      ],
      "execution_count": 43,
      "outputs": [
        {
          "output_type": "execute_result",
          "data": {
            "text/html": [
              "<div>\n",
              "<style scoped>\n",
              "    .dataframe tbody tr th:only-of-type {\n",
              "        vertical-align: middle;\n",
              "    }\n",
              "\n",
              "    .dataframe tbody tr th {\n",
              "        vertical-align: top;\n",
              "    }\n",
              "\n",
              "    .dataframe thead th {\n",
              "        text-align: right;\n",
              "    }\n",
              "</style>\n",
              "<table border=\"1\" class=\"dataframe\">\n",
              "  <thead>\n",
              "    <tr style=\"text-align: right;\">\n",
              "      <th></th>\n",
              "      <th>Pclass</th>\n",
              "      <th>Age_band</th>\n",
              "      <th>SibSp</th>\n",
              "      <th>Parch</th>\n",
              "      <th>Sex_female</th>\n",
              "      <th>Sex_male</th>\n",
              "      <th>Init_Master.</th>\n",
              "      <th>Init_Miss.</th>\n",
              "      <th>Init_Mr.</th>\n",
              "      <th>Init_Mrs.</th>\n",
              "      <th>Init_Other.</th>\n",
              "      <th>Embarked_C</th>\n",
              "      <th>Embarked_Q</th>\n",
              "      <th>Embarked_S</th>\n",
              "    </tr>\n",
              "  </thead>\n",
              "  <tbody>\n",
              "    <tr>\n",
              "      <th>0</th>\n",
              "      <td>3</td>\n",
              "      <td>1</td>\n",
              "      <td>1</td>\n",
              "      <td>0</td>\n",
              "      <td>0</td>\n",
              "      <td>1</td>\n",
              "      <td>0</td>\n",
              "      <td>0</td>\n",
              "      <td>1</td>\n",
              "      <td>0</td>\n",
              "      <td>0</td>\n",
              "      <td>0</td>\n",
              "      <td>0</td>\n",
              "      <td>1</td>\n",
              "    </tr>\n",
              "    <tr>\n",
              "      <th>1</th>\n",
              "      <td>1</td>\n",
              "      <td>1</td>\n",
              "      <td>1</td>\n",
              "      <td>0</td>\n",
              "      <td>1</td>\n",
              "      <td>0</td>\n",
              "      <td>0</td>\n",
              "      <td>0</td>\n",
              "      <td>0</td>\n",
              "      <td>1</td>\n",
              "      <td>0</td>\n",
              "      <td>1</td>\n",
              "      <td>0</td>\n",
              "      <td>0</td>\n",
              "    </tr>\n",
              "    <tr>\n",
              "      <th>2</th>\n",
              "      <td>3</td>\n",
              "      <td>1</td>\n",
              "      <td>0</td>\n",
              "      <td>0</td>\n",
              "      <td>1</td>\n",
              "      <td>0</td>\n",
              "      <td>0</td>\n",
              "      <td>1</td>\n",
              "      <td>0</td>\n",
              "      <td>0</td>\n",
              "      <td>0</td>\n",
              "      <td>0</td>\n",
              "      <td>0</td>\n",
              "      <td>1</td>\n",
              "    </tr>\n",
              "    <tr>\n",
              "      <th>3</th>\n",
              "      <td>1</td>\n",
              "      <td>1</td>\n",
              "      <td>1</td>\n",
              "      <td>0</td>\n",
              "      <td>1</td>\n",
              "      <td>0</td>\n",
              "      <td>0</td>\n",
              "      <td>0</td>\n",
              "      <td>0</td>\n",
              "      <td>1</td>\n",
              "      <td>0</td>\n",
              "      <td>0</td>\n",
              "      <td>0</td>\n",
              "      <td>1</td>\n",
              "    </tr>\n",
              "    <tr>\n",
              "      <th>4</th>\n",
              "      <td>3</td>\n",
              "      <td>1</td>\n",
              "      <td>0</td>\n",
              "      <td>0</td>\n",
              "      <td>0</td>\n",
              "      <td>1</td>\n",
              "      <td>0</td>\n",
              "      <td>0</td>\n",
              "      <td>1</td>\n",
              "      <td>0</td>\n",
              "      <td>0</td>\n",
              "      <td>0</td>\n",
              "      <td>0</td>\n",
              "      <td>1</td>\n",
              "    </tr>\n",
              "    <tr>\n",
              "      <th>...</th>\n",
              "      <td>...</td>\n",
              "      <td>...</td>\n",
              "      <td>...</td>\n",
              "      <td>...</td>\n",
              "      <td>...</td>\n",
              "      <td>...</td>\n",
              "      <td>...</td>\n",
              "      <td>...</td>\n",
              "      <td>...</td>\n",
              "      <td>...</td>\n",
              "      <td>...</td>\n",
              "      <td>...</td>\n",
              "      <td>...</td>\n",
              "      <td>...</td>\n",
              "    </tr>\n",
              "    <tr>\n",
              "      <th>1304</th>\n",
              "      <td>3</td>\n",
              "      <td>1</td>\n",
              "      <td>0</td>\n",
              "      <td>0</td>\n",
              "      <td>0</td>\n",
              "      <td>1</td>\n",
              "      <td>0</td>\n",
              "      <td>0</td>\n",
              "      <td>1</td>\n",
              "      <td>0</td>\n",
              "      <td>0</td>\n",
              "      <td>0</td>\n",
              "      <td>0</td>\n",
              "      <td>1</td>\n",
              "    </tr>\n",
              "    <tr>\n",
              "      <th>1305</th>\n",
              "      <td>1</td>\n",
              "      <td>1</td>\n",
              "      <td>0</td>\n",
              "      <td>0</td>\n",
              "      <td>1</td>\n",
              "      <td>0</td>\n",
              "      <td>0</td>\n",
              "      <td>0</td>\n",
              "      <td>0</td>\n",
              "      <td>0</td>\n",
              "      <td>1</td>\n",
              "      <td>1</td>\n",
              "      <td>0</td>\n",
              "      <td>0</td>\n",
              "    </tr>\n",
              "    <tr>\n",
              "      <th>1306</th>\n",
              "      <td>3</td>\n",
              "      <td>1</td>\n",
              "      <td>0</td>\n",
              "      <td>0</td>\n",
              "      <td>0</td>\n",
              "      <td>1</td>\n",
              "      <td>0</td>\n",
              "      <td>0</td>\n",
              "      <td>1</td>\n",
              "      <td>0</td>\n",
              "      <td>0</td>\n",
              "      <td>0</td>\n",
              "      <td>0</td>\n",
              "      <td>1</td>\n",
              "    </tr>\n",
              "    <tr>\n",
              "      <th>1307</th>\n",
              "      <td>3</td>\n",
              "      <td>1</td>\n",
              "      <td>0</td>\n",
              "      <td>0</td>\n",
              "      <td>0</td>\n",
              "      <td>1</td>\n",
              "      <td>0</td>\n",
              "      <td>0</td>\n",
              "      <td>1</td>\n",
              "      <td>0</td>\n",
              "      <td>0</td>\n",
              "      <td>0</td>\n",
              "      <td>0</td>\n",
              "      <td>1</td>\n",
              "    </tr>\n",
              "    <tr>\n",
              "      <th>1308</th>\n",
              "      <td>3</td>\n",
              "      <td>1</td>\n",
              "      <td>1</td>\n",
              "      <td>1</td>\n",
              "      <td>0</td>\n",
              "      <td>1</td>\n",
              "      <td>1</td>\n",
              "      <td>0</td>\n",
              "      <td>0</td>\n",
              "      <td>0</td>\n",
              "      <td>0</td>\n",
              "      <td>1</td>\n",
              "      <td>0</td>\n",
              "      <td>0</td>\n",
              "    </tr>\n",
              "  </tbody>\n",
              "</table>\n",
              "<p>1309 rows × 14 columns</p>\n",
              "</div>"
            ],
            "text/plain": [
              "      Pclass  Age_band  SibSp  ...  Embarked_C  Embarked_Q  Embarked_S\n",
              "0          3         1      1  ...           0           0           1\n",
              "1          1         1      1  ...           1           0           0\n",
              "2          3         1      0  ...           0           0           1\n",
              "3          1         1      1  ...           0           0           1\n",
              "4          3         1      0  ...           0           0           1\n",
              "...      ...       ...    ...  ...         ...         ...         ...\n",
              "1304       3         1      0  ...           0           0           1\n",
              "1305       1         1      0  ...           1           0           0\n",
              "1306       3         1      0  ...           0           0           1\n",
              "1307       3         1      0  ...           0           0           1\n",
              "1308       3         1      1  ...           1           0           0\n",
              "\n",
              "[1309 rows x 14 columns]"
            ]
          },
          "metadata": {
            "tags": []
          },
          "execution_count": 43
        }
      ]
    },
    {
      "cell_type": "code",
      "metadata": {
        "id": "Zpgj0S1rB8RV",
        "colab_type": "code",
        "colab": {}
      },
      "source": [
        "x_train_ = features_onehot.iloc[:x_train.shape[0]]\n",
        "x_test_ = features_onehot.iloc[x_train.shape[0]:]"
      ],
      "execution_count": 0,
      "outputs": []
    },
    {
      "cell_type": "markdown",
      "metadata": {
        "id": "fMTnEToG0YJT",
        "colab_type": "text"
      },
      "source": [
        "## Modeling\n",
        "\n",
        "Classification Algorithms includes:\n",
        "- Logistic Regression\n",
        "- Decision Tree\n",
        "- Random Forest\n",
        "- ...\n",
        "\n",
        "### Logistic Regression\n",
        "\n",
        "First is Sigmoid Function:\n",
        "$$g(z) = \\frac{1}{1+e^{-z}}$$\n",
        "\n",
        "You can find the details on [Wiki](https://en.wikipedia.org/wiki/Sigmoid_function).\n",
        "\n",
        "Logistic Regression is to add a Sigmoid function after the Linear Regression\n",
        "\n",
        "$h_{\\theta}=g(\\theta^Tx)$, where $g(z)=\\frac{1}{1+e^{-z}}$\n",
        "\n",
        "Therefore, the formula of Logistic Regression is:\n",
        "$$h_{\\theta}=\\frac{1}{1+e^{-\\theta^Tx}}$$\n",
        "\n",
        "### Decision Tree\n",
        "\n",
        "The simple example is to decide whether to bring an umbrella or not. If the forecast shows it will rain, then you will bring the umbrella. If it is sunny, you will not bring it.\n",
        "\n",
        "### Ensamble\n",
        "\n",
        "To use multiple learning algorithms to obtain better predictive performance than could be obtained from any of the constituent learning algorithms alone.\n",
        "\n",
        "- Bagging\n",
        "- Boosting\n",
        "\n",
        "Random Forest is Bagging."
      ]
    },
    {
      "cell_type": "code",
      "metadata": {
        "id": "FSgh62u1ClIs",
        "colab_type": "code",
        "colab": {}
      },
      "source": [
        "from sklearn.linear_model import LogisticRegression, LogisticRegressionCV\n",
        "from sklearn.tree import DecisionTreeClassifier\n",
        "from sklearn.ensemble import RandomForestClassifier\n",
        "\n",
        "from sklearn.preprocessing import OneHotEncoder, LabelEncoder, StandardScaler, normalize\n",
        "\n",
        "from sklearn.model_selection import cross_validate, cross_val_score"
      ],
      "execution_count": 0,
      "outputs": []
    },
    {
      "cell_type": "code",
      "metadata": {
        "id": "CW3GMgdKpOHl",
        "colab_type": "code",
        "outputId": "b987729d-5024-4290-80fa-a30fe4eb483a",
        "colab": {
          "base_uri": "https://localhost:8080/",
          "height": 119
        }
      },
      "source": [
        "LR = LogisticRegression(random_state=0)\n",
        "DT = DecisionTreeClassifier(random_state=0)\n",
        "RF = RandomForestClassifier(random_state=0)\n",
        "\n",
        "LR_CV_scores = cross_val_score(LR, x_train_, y_train_, cv=10)\n",
        "DT_CV_scores = cross_val_score(DT, x_train_, y_train_, cv=10)\n",
        "RF_CV_scores = cross_val_score(RF, x_train_, y_train_, cv=10)\n",
        "\n",
        "print(\"Logistic Regression:\\n>> Accuracy: %0.2f (+/- %0.2f)\" % (LR_CV_scores.mean(), LR_CV_scores.std() * 2))\n",
        "print(\"Decision Tree:\\n>> Accuracy: %0.2f (+/- %0.2f)\" % (DT_CV_scores.mean(), DT_CV_scores.std() * 2))\n",
        "print(\"Random Forest:\\n>> Accuracy: %0.2f (+/- %0.2f)\" % (RF_CV_scores.mean(), RF_CV_scores.std() * 2))"
      ],
      "execution_count": 46,
      "outputs": [
        {
          "output_type": "stream",
          "text": [
            "Logistic Regression:\n",
            ">> Accuracy: 0.83 (+/- 0.06)\n",
            "Decision Tree:\n",
            ">> Accuracy: 0.81 (+/- 0.07)\n",
            "Random Forest:\n",
            ">> Accuracy: 0.80 (+/- 0.07)\n"
          ],
          "name": "stdout"
        }
      ]
    },
    {
      "cell_type": "code",
      "metadata": {
        "id": "DChAvbXoo-DM",
        "colab_type": "code",
        "outputId": "d2ad056d-1d74-4c03-fa03-b757c0e2b066",
        "colab": {
          "base_uri": "https://localhost:8080/",
          "height": 442
        }
      },
      "source": [
        "\n",
        "# Model 1\n",
        "# Logistic Regression\n",
        "clf = LogisticRegressionCV(cv=5, random_state=0)\n",
        "\n",
        "clf.fit(x_train_, y_train_)\n",
        "print (clf.score(x_train_, y_train_))\n",
        "\n",
        "test['Survived'] = clf.predict(x_test_) # 0.78468 for Kaggle Public Leaderboard\n",
        "\n",
        "submission = test[['PassengerId','Survived']]"
      ],
      "execution_count": 47,
      "outputs": [
        {
          "output_type": "stream",
          "text": [
            "/usr/local/lib/python3.6/dist-packages/sklearn/linear_model/_logistic.py:940: ConvergenceWarning: lbfgs failed to converge (status=1):\n",
            "STOP: TOTAL NO. of ITERATIONS REACHED LIMIT.\n",
            "\n",
            "Increase the number of iterations (max_iter) or scale the data as shown in:\n",
            "    https://scikit-learn.org/stable/modules/preprocessing.html\n",
            "Please also refer to the documentation for alternative solver options:\n",
            "    https://scikit-learn.org/stable/modules/linear_model.html#logistic-regression\n",
            "  extra_warning_msg=_LOGISTIC_SOLVER_CONVERGENCE_MSG)\n",
            "/usr/local/lib/python3.6/dist-packages/sklearn/linear_model/_logistic.py:940: ConvergenceWarning: lbfgs failed to converge (status=1):\n",
            "STOP: TOTAL NO. of ITERATIONS REACHED LIMIT.\n",
            "\n",
            "Increase the number of iterations (max_iter) or scale the data as shown in:\n",
            "    https://scikit-learn.org/stable/modules/preprocessing.html\n",
            "Please also refer to the documentation for alternative solver options:\n",
            "    https://scikit-learn.org/stable/modules/linear_model.html#logistic-regression\n",
            "  extra_warning_msg=_LOGISTIC_SOLVER_CONVERGENCE_MSG)\n",
            "/usr/local/lib/python3.6/dist-packages/sklearn/linear_model/_logistic.py:940: ConvergenceWarning: lbfgs failed to converge (status=1):\n",
            "STOP: TOTAL NO. of ITERATIONS REACHED LIMIT.\n",
            "\n",
            "Increase the number of iterations (max_iter) or scale the data as shown in:\n",
            "    https://scikit-learn.org/stable/modules/preprocessing.html\n",
            "Please also refer to the documentation for alternative solver options:\n",
            "    https://scikit-learn.org/stable/modules/linear_model.html#logistic-regression\n",
            "  extra_warning_msg=_LOGISTIC_SOLVER_CONVERGENCE_MSG)\n"
          ],
          "name": "stderr"
        },
        {
          "output_type": "stream",
          "text": [
            "0.8338945005611672\n"
          ],
          "name": "stdout"
        }
      ]
    },
    {
      "cell_type": "code",
      "metadata": {
        "id": "jNdd0Dswy5QS",
        "colab_type": "code",
        "colab": {}
      },
      "source": [
        ""
      ],
      "execution_count": 0,
      "outputs": []
    }
  ]
}